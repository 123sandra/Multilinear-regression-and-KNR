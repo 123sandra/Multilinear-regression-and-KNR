{
 "cells": [
  {
   "cell_type": "markdown",
   "metadata": {},
   "source": [
    "# Multiple Linear Regression"
   ]
  },
  {
   "cell_type": "code",
   "execution_count": 1,
   "metadata": {},
   "outputs": [],
   "source": [
    "import os"
   ]
  },
  {
   "cell_type": "code",
   "execution_count": 2,
   "metadata": {},
   "outputs": [
    {
     "data": {
      "text/plain": [
       "'C:\\\\Users\\\\Lenovo\\\\Desktop\\\\DS_Projects'"
      ]
     },
     "execution_count": 2,
     "metadata": {},
     "output_type": "execute_result"
    }
   ],
   "source": [
    "os.getcwd()"
   ]
  },
  {
   "cell_type": "code",
   "execution_count": 7,
   "metadata": {},
   "outputs": [],
   "source": [
    "import pandas as pd\n",
    "import matplotlib.pyplot as plt\n",
    "import seaborn as sns"
   ]
  },
  {
   "cell_type": "code",
   "execution_count": 4,
   "metadata": {},
   "outputs": [
    {
     "data": {
      "text/html": [
       "<div>\n",
       "<style scoped>\n",
       "    .dataframe tbody tr th:only-of-type {\n",
       "        vertical-align: middle;\n",
       "    }\n",
       "\n",
       "    .dataframe tbody tr th {\n",
       "        vertical-align: top;\n",
       "    }\n",
       "\n",
       "    .dataframe thead th {\n",
       "        text-align: right;\n",
       "    }\n",
       "</style>\n",
       "<table border=\"1\" class=\"dataframe\">\n",
       "  <thead>\n",
       "    <tr style=\"text-align: right;\">\n",
       "      <th></th>\n",
       "      <th>TV</th>\n",
       "      <th>Radio</th>\n",
       "      <th>Newspaper</th>\n",
       "      <th>Sales</th>\n",
       "    </tr>\n",
       "  </thead>\n",
       "  <tbody>\n",
       "    <tr>\n",
       "      <th>0</th>\n",
       "      <td>230.1</td>\n",
       "      <td>37.8</td>\n",
       "      <td>69.2</td>\n",
       "      <td>22.1</td>\n",
       "    </tr>\n",
       "    <tr>\n",
       "      <th>1</th>\n",
       "      <td>44.5</td>\n",
       "      <td>39.3</td>\n",
       "      <td>45.1</td>\n",
       "      <td>10.4</td>\n",
       "    </tr>\n",
       "    <tr>\n",
       "      <th>2</th>\n",
       "      <td>17.2</td>\n",
       "      <td>45.9</td>\n",
       "      <td>69.3</td>\n",
       "      <td>12.0</td>\n",
       "    </tr>\n",
       "    <tr>\n",
       "      <th>3</th>\n",
       "      <td>151.5</td>\n",
       "      <td>41.3</td>\n",
       "      <td>58.5</td>\n",
       "      <td>16.5</td>\n",
       "    </tr>\n",
       "    <tr>\n",
       "      <th>4</th>\n",
       "      <td>180.8</td>\n",
       "      <td>10.8</td>\n",
       "      <td>58.4</td>\n",
       "      <td>17.9</td>\n",
       "    </tr>\n",
       "    <tr>\n",
       "      <th>...</th>\n",
       "      <td>...</td>\n",
       "      <td>...</td>\n",
       "      <td>...</td>\n",
       "      <td>...</td>\n",
       "    </tr>\n",
       "    <tr>\n",
       "      <th>195</th>\n",
       "      <td>38.2</td>\n",
       "      <td>3.7</td>\n",
       "      <td>13.8</td>\n",
       "      <td>7.6</td>\n",
       "    </tr>\n",
       "    <tr>\n",
       "      <th>196</th>\n",
       "      <td>94.2</td>\n",
       "      <td>4.9</td>\n",
       "      <td>8.1</td>\n",
       "      <td>14.0</td>\n",
       "    </tr>\n",
       "    <tr>\n",
       "      <th>197</th>\n",
       "      <td>177.0</td>\n",
       "      <td>9.3</td>\n",
       "      <td>6.4</td>\n",
       "      <td>14.8</td>\n",
       "    </tr>\n",
       "    <tr>\n",
       "      <th>198</th>\n",
       "      <td>283.6</td>\n",
       "      <td>42.0</td>\n",
       "      <td>66.2</td>\n",
       "      <td>25.5</td>\n",
       "    </tr>\n",
       "    <tr>\n",
       "      <th>199</th>\n",
       "      <td>232.1</td>\n",
       "      <td>8.6</td>\n",
       "      <td>8.7</td>\n",
       "      <td>18.4</td>\n",
       "    </tr>\n",
       "  </tbody>\n",
       "</table>\n",
       "<p>200 rows × 4 columns</p>\n",
       "</div>"
      ],
      "text/plain": [
       "        TV  Radio  Newspaper  Sales\n",
       "0    230.1   37.8       69.2   22.1\n",
       "1     44.5   39.3       45.1   10.4\n",
       "2     17.2   45.9       69.3   12.0\n",
       "3    151.5   41.3       58.5   16.5\n",
       "4    180.8   10.8       58.4   17.9\n",
       "..     ...    ...        ...    ...\n",
       "195   38.2    3.7       13.8    7.6\n",
       "196   94.2    4.9        8.1   14.0\n",
       "197  177.0    9.3        6.4   14.8\n",
       "198  283.6   42.0       66.2   25.5\n",
       "199  232.1    8.6        8.7   18.4\n",
       "\n",
       "[200 rows x 4 columns]"
      ]
     },
     "execution_count": 4,
     "metadata": {},
     "output_type": "execute_result"
    }
   ],
   "source": [
    "data=pd.read_csv('C:\\\\Users\\\\Lenovo\\\\Desktop\\\\DS_Projects\\\\advertising.xls')\n",
    "data"
   ]
  },
  {
   "cell_type": "code",
   "execution_count": 5,
   "metadata": {},
   "outputs": [
    {
     "data": {
      "text/html": [
       "<div>\n",
       "<style scoped>\n",
       "    .dataframe tbody tr th:only-of-type {\n",
       "        vertical-align: middle;\n",
       "    }\n",
       "\n",
       "    .dataframe tbody tr th {\n",
       "        vertical-align: top;\n",
       "    }\n",
       "\n",
       "    .dataframe thead th {\n",
       "        text-align: right;\n",
       "    }\n",
       "</style>\n",
       "<table border=\"1\" class=\"dataframe\">\n",
       "  <thead>\n",
       "    <tr style=\"text-align: right;\">\n",
       "      <th></th>\n",
       "      <th>TV</th>\n",
       "      <th>Radio</th>\n",
       "      <th>Newspaper</th>\n",
       "    </tr>\n",
       "  </thead>\n",
       "  <tbody>\n",
       "    <tr>\n",
       "      <th>0</th>\n",
       "      <td>230.1</td>\n",
       "      <td>37.8</td>\n",
       "      <td>69.2</td>\n",
       "    </tr>\n",
       "    <tr>\n",
       "      <th>1</th>\n",
       "      <td>44.5</td>\n",
       "      <td>39.3</td>\n",
       "      <td>45.1</td>\n",
       "    </tr>\n",
       "    <tr>\n",
       "      <th>2</th>\n",
       "      <td>17.2</td>\n",
       "      <td>45.9</td>\n",
       "      <td>69.3</td>\n",
       "    </tr>\n",
       "    <tr>\n",
       "      <th>3</th>\n",
       "      <td>151.5</td>\n",
       "      <td>41.3</td>\n",
       "      <td>58.5</td>\n",
       "    </tr>\n",
       "    <tr>\n",
       "      <th>4</th>\n",
       "      <td>180.8</td>\n",
       "      <td>10.8</td>\n",
       "      <td>58.4</td>\n",
       "    </tr>\n",
       "    <tr>\n",
       "      <th>...</th>\n",
       "      <td>...</td>\n",
       "      <td>...</td>\n",
       "      <td>...</td>\n",
       "    </tr>\n",
       "    <tr>\n",
       "      <th>195</th>\n",
       "      <td>38.2</td>\n",
       "      <td>3.7</td>\n",
       "      <td>13.8</td>\n",
       "    </tr>\n",
       "    <tr>\n",
       "      <th>196</th>\n",
       "      <td>94.2</td>\n",
       "      <td>4.9</td>\n",
       "      <td>8.1</td>\n",
       "    </tr>\n",
       "    <tr>\n",
       "      <th>197</th>\n",
       "      <td>177.0</td>\n",
       "      <td>9.3</td>\n",
       "      <td>6.4</td>\n",
       "    </tr>\n",
       "    <tr>\n",
       "      <th>198</th>\n",
       "      <td>283.6</td>\n",
       "      <td>42.0</td>\n",
       "      <td>66.2</td>\n",
       "    </tr>\n",
       "    <tr>\n",
       "      <th>199</th>\n",
       "      <td>232.1</td>\n",
       "      <td>8.6</td>\n",
       "      <td>8.7</td>\n",
       "    </tr>\n",
       "  </tbody>\n",
       "</table>\n",
       "<p>200 rows × 3 columns</p>\n",
       "</div>"
      ],
      "text/plain": [
       "        TV  Radio  Newspaper\n",
       "0    230.1   37.8       69.2\n",
       "1     44.5   39.3       45.1\n",
       "2     17.2   45.9       69.3\n",
       "3    151.5   41.3       58.5\n",
       "4    180.8   10.8       58.4\n",
       "..     ...    ...        ...\n",
       "195   38.2    3.7       13.8\n",
       "196   94.2    4.9        8.1\n",
       "197  177.0    9.3        6.4\n",
       "198  283.6   42.0       66.2\n",
       "199  232.1    8.6        8.7\n",
       "\n",
       "[200 rows x 3 columns]"
      ]
     },
     "execution_count": 5,
     "metadata": {},
     "output_type": "execute_result"
    }
   ],
   "source": [
    "X=data.iloc[:,:-1]\n",
    "X"
   ]
  },
  {
   "cell_type": "code",
   "execution_count": 6,
   "metadata": {
    "scrolled": true
   },
   "outputs": [
    {
     "data": {
      "text/plain": [
       "0      22.1\n",
       "1      10.4\n",
       "2      12.0\n",
       "3      16.5\n",
       "4      17.9\n",
       "       ... \n",
       "195     7.6\n",
       "196    14.0\n",
       "197    14.8\n",
       "198    25.5\n",
       "199    18.4\n",
       "Name: Sales, Length: 200, dtype: float64"
      ]
     },
     "execution_count": 6,
     "metadata": {},
     "output_type": "execute_result"
    }
   ],
   "source": [
    "y=data.iloc[:,-1]\n",
    "y"
   ]
  },
  {
   "cell_type": "markdown",
   "metadata": {},
   "source": [
    "# Plotting"
   ]
  },
  {
   "cell_type": "code",
   "execution_count": 8,
   "metadata": {},
   "outputs": [
    {
     "data": {
      "text/plain": [
       "<AxesSubplot:xlabel='TV', ylabel='Sales'>"
      ]
     },
     "execution_count": 8,
     "metadata": {},
     "output_type": "execute_result"
    },
    {
     "data": {
      "image/png": "[encoded data removed]",
      "text/plain": [
       "<Figure size 432x288 with 1 Axes>"
      ]
     },
     "metadata": {
      "needs_background": "light"
     },
     "output_type": "display_data"
    }
   ],
   "source": [
    "sns.regplot(x=data[\"TV\"],y=data[\"Sales\"])"
   ]
  },
  {
   "cell_type": "code",
   "execution_count": 10,
   "metadata": {},
   "outputs": [],
   "source": [
    "from sklearn.model_selection import train_test_split\n",
    "X_train,X_test,y_train,y_test=train_test_split(X,y,test_size=0.3,random_state=1)"
   ]
  },
  {
   "cell_type": "code",
   "execution_count": 11,
   "metadata": {},
   "outputs": [
    {
     "data": {
      "text/plain": [
       "((140, 3), (140,))"
      ]
     },
     "execution_count": 11,
     "metadata": {},
     "output_type": "execute_result"
    }
   ],
   "source": [
    "X_train.shape,y_train.shape"
   ]
  },
  {
   "cell_type": "code",
   "execution_count": 12,
   "metadata": {
    "scrolled": true
   },
   "outputs": [
    {
     "data": {
      "text/plain": [
       "((60, 3), (60,))"
      ]
     },
     "execution_count": 12,
     "metadata": {},
     "output_type": "execute_result"
    }
   ],
   "source": [
    "X_test.shape,y_test.shape"
   ]
  },
  {
   "cell_type": "markdown",
   "metadata": {},
   "source": [
    "# Importing LinearRegression and Prediction"
   ]
  },
  {
   "cell_type": "code",
   "execution_count": 13,
   "metadata": {},
   "outputs": [
    {
     "data": {
      "text/plain": [
       "LinearRegression()"
      ]
     },
     "execution_count": 13,
     "metadata": {},
     "output_type": "execute_result"
    }
   ],
   "source": [
    "from sklearn.linear_model import LinearRegression\n",
    "mlr=LinearRegression()\n",
    "mlr.fit(X_train,y_train)"
   ]
  },
  {
   "cell_type": "code",
   "execution_count": 14,
   "metadata": {},
   "outputs": [
    {
     "data": {
      "text/plain": [
       "array([21.28816103, 18.04213212, 10.0595901 , 21.08224067, 20.76476044,\n",
       "       24.47187353, 16.80643646, 15.62885738, 10.12479884, 18.84601896,\n",
       "       15.78389695, 10.54297035, 18.92928707, 15.52557996, 17.8412711 ,\n",
       "       15.24120343, 13.74212833, 21.0643733 , 10.05392699, 19.26500889,\n",
       "       11.16451173, 11.97211832,  8.61179009, 11.98972141, 12.59914023,\n",
       "       16.8447954 ,  9.7170889 , 21.09489946, 18.13942474, 19.55008709,\n",
       "       22.08796224, 17.78527998, 16.53883452, 14.77303861, 21.39458945,\n",
       "       16.95491635, 17.22755002, 12.31866943, 21.04982199,  7.77473926,\n",
       "        5.38467516,  9.63139004,  6.89549204, 19.19507436,  7.88125192,\n",
       "       15.18766673, 13.70978421, 21.0232936 , 20.5350058 , 20.48867548,\n",
       "       24.86087902, 14.96304281,  7.33545571, 19.35630325, 21.32554066,\n",
       "       14.7719757 , 17.19642519,  7.11988693, 18.30096543,  9.65158222])"
      ]
     },
     "execution_count": 14,
     "metadata": {},
     "output_type": "execute_result"
    }
   ],
   "source": [
    "y_predict=mlr.predict(X_test)\n",
    "y_predict"
   ]
  },
  {
   "cell_type": "code",
   "execution_count": 16,
   "metadata": {
    "scrolled": true
   },
   "outputs": [
    {
     "data": {
      "text/plain": [
       "array([23.8, 16.6, 11.9, 19.8, 17.6, 25.5, 16.9, 17.9, 10.5, 17.1, 17.5,\n",
       "       11.3, 17.4, 16.7, 18.4, 15.9, 12.9, 17.8,  9.5, 18.4, 10.7, 12.5,\n",
       "        8.5, 11.5, 11.9, 19.9, 10.1, 18.9, 19.6, 20.9, 23.2, 16.9, 17.3,\n",
       "       16.7, 20.2, 20.5, 16.5, 11. , 22.3,  7.6,  5.3, 12. ,  6.7, 19. ,\n",
       "        5.5, 14.6, 14.6, 21.5, 22.6, 19.7, 25.4, 15.2,  6.6, 21.2, 17.4,\n",
       "       17.6, 17.2,  7.2, 18.4,  9.6])"
      ]
     },
     "execution_count": 16,
     "metadata": {},
     "output_type": "execute_result"
    }
   ],
   "source": [
    "y_test.values"
   ]
  },
  {
   "cell_type": "markdown",
   "metadata": {},
   "source": [
    "# Performance measure"
   ]
  },
  {
   "cell_type": "code",
   "execution_count": 19,
   "metadata": {},
   "outputs": [
    {
     "name": "stdout",
     "output_type": "stream",
     "text": [
      "R2 Score: 90.71151423684273\n",
      "Mean absolute error: 1.1947417134056737\n",
      "Mean square error: 2.370659971225657\n"
     ]
    }
   ],
   "source": [
    "from sklearn.metrics import r2_score, mean_squared_error, mean_absolute_error\n",
    "print(\"R2 Score:\",r2_score(y_test,y_predict)*100)\n",
    "print(\"Mean absolute error:\",mean_absolute_error(y_test,y_predict))\n",
    "print(\"Mean square error:\",mean_squared_error(y_test,y_predict))"
   ]
  },
  {
   "cell_type": "markdown",
   "metadata": {},
   "source": [
    "# KNR"
   ]
  },
  {
   "cell_type": "code",
   "execution_count": 25,
   "metadata": {},
   "outputs": [
    {
     "data": {
      "text/plain": [
       "array([[0.77578627, 0.76209677, 0.60598065],\n",
       "       [0.1481231 , 0.79233871, 0.39401935],\n",
       "       [0.0557998 , 0.92540323, 0.60686016],\n",
       "       [0.50997633, 0.83266129, 0.51187335],\n",
       "       [0.60906324, 0.21774194, 0.51099384],\n",
       "       [0.02705445, 0.9858871 , 0.65699208],\n",
       "       [0.19208657, 0.66129032, 0.20404573],\n",
       "       [0.4041258 , 0.39516129, 0.09938434],\n",
       "       [0.02671627, 0.04233871, 0.00615655],\n",
       "       [0.67331755, 0.05241935, 0.18381706],\n",
       "       [0.2211701 , 0.11693548, 0.21020229],\n",
       "       [0.72370646, 0.48387097, 0.03254178],\n",
       "       [0.07811972, 0.70766129, 0.5769569 ],\n",
       "       [0.32735881, 0.15322581, 0.06068602],\n",
       "       [0.68785932, 0.66330645, 0.40193492],\n",
       "       [0.65843761, 0.96169355, 0.46262093],\n",
       "       [0.22691917, 0.73790323, 1.        ],\n",
       "       [0.94927291, 0.7983871 , 0.48812665],\n",
       "       [0.2316537 , 0.41330645, 0.15831135],\n",
       "       [0.49577274, 0.48185484, 0.16534741],\n",
       "       [0.73621914, 0.55846774, 0.46701847],\n",
       "       [0.80047345, 0.10282258, 0.20404573],\n",
       "       [0.04227257, 0.32056452, 0.43359719],\n",
       "       [0.76969902, 0.34072581, 0.22779244],\n",
       "       [0.20831924, 0.25403226, 0.15831135],\n",
       "       [0.8867095 , 0.07056452, 0.16886544],\n",
       "       [0.4808928 , 0.59072581, 0.10817942],\n",
       "       [0.80960433, 0.33669355, 0.19876869],\n",
       "       [0.83902604, 0.54637097, 0.19876869],\n",
       "       [0.23638823, 0.32258065, 0.35620053],\n",
       "       [0.98816368, 0.57056452, 0.37730871],\n",
       "       [0.37943862, 0.35080645, 0.33685136],\n",
       "       [0.32634427, 0.03024194, 0.26121372],\n",
       "       [0.89584038, 0.40322581, 0.        ],\n",
       "       [0.32127156, 0.02822581, 0.06244503],\n",
       "       [0.98072371, 0.08266129, 0.07211961],\n",
       "       [0.90023673, 0.88306452, 0.04133685],\n",
       "       [0.25025364, 0.99596774, 0.39929639],\n",
       "       [0.14338857, 0.53830645, 0.3060686 ],\n",
       "       [0.76868448, 0.76008065, 0.27880387],\n",
       "       [0.68244843, 0.44959677, 0.27528584],\n",
       "       [0.59621238, 0.6733871 , 0.33773087],\n",
       "       [0.99053094, 0.55846774, 0.01319261],\n",
       "       [0.69732837, 0.16935484, 0.22955145],\n",
       "       [0.08251606, 0.51814516, 0.37818821],\n",
       "       [0.58978695, 0.45362903, 0.27440633],\n",
       "       [0.30098072, 0.19959677, 0.31134565],\n",
       "       [0.80892797, 0.83669355, 0.16007036],\n",
       "       [0.76597903, 0.31854839, 0.43623571],\n",
       "       [0.22387555, 0.2358871 , 0.32102023],\n",
       "       [0.67331755, 0.0625    , 0.30167106],\n",
       "       [0.33716605, 0.19354839, 0.02902375],\n",
       "       [0.72945553, 0.84072581, 0.34564644],\n",
       "       [0.61515049, 0.93145161, 0.51363237],\n",
       "       [0.88603314, 0.58064516, 0.13720317],\n",
       "       [0.67027393, 0.99596774, 0.52506596],\n",
       "       [0.02231992, 0.56653226, 0.36147757],\n",
       "       [0.4582347 , 0.38709677, 0.14335972],\n",
       "       [0.71051742, 1.        , 0.3289358 ],\n",
       "       [0.71017924, 0.59475806, 0.07915567],\n",
       "       [0.17855935, 0.04032258, 0.18557608],\n",
       "       [0.88129861, 0.8608871 , 0.47845207],\n",
       "       [0.80689888, 0.3125    , 0.23746702],\n",
       "       [0.3449442 , 0.59677419, 0.07124011],\n",
       "       [0.44098749, 0.86290323, 0.25153914],\n",
       "       [0.23097734, 0.1875    , 0.00527704],\n",
       "       [0.10415962, 0.49596774, 0.01671064],\n",
       "       [0.4687183 , 0.29233871, 0.08707124],\n",
       "       [0.80047345, 0.55443548, 0.0941073 ],\n",
       "       [0.73080825, 0.88508065, 0.23658751],\n",
       "       [0.67095029, 0.61693548, 0.33773087],\n",
       "       [0.36895502, 0.28830645, 0.27616535],\n",
       "       [0.08826513, 0.66532258, 0.16710642],\n",
       "       [0.43523842, 0.11491935, 0.27264732],\n",
       "       [0.71931011, 0.49596774, 0.11257696],\n",
       "       [0.05478526, 0.88104839, 0.78364116],\n",
       "       [0.0906324 , 0.03225806, 0.17941953],\n",
       "       [0.40514034, 0.57459677, 0.12225154],\n",
       "       [0.01589449, 0.60282258, 0.08003518],\n",
       "       [0.38992222, 0.15524194, 0.2005277 ],\n",
       "       [0.25600271, 0.53830645, 0.19349164],\n",
       "       [0.80858979, 0.08266129, 0.32189974],\n",
       "       [0.25228272, 0.40927419, 0.28320141],\n",
       "       [0.22894826, 0.89717742, 0.31046614],\n",
       "       [0.71964829, 0.86693548, 0.294635  ],\n",
       "       [0.65099763, 0.37096774, 0.57519789],\n",
       "       [0.25566452, 0.55443548, 0.13808267],\n",
       "       [0.37199865, 0.81854839, 0.5532102 ],\n",
       "       [0.2962462 , 0.5141129 , 0.64291996],\n",
       "       [0.36895502, 0.96370968, 0.44942832],\n",
       "       [0.45180927, 0.09879032, 0.07915567],\n",
       "       [0.09435238, 0.03024194, 0.28759894],\n",
       "       [0.73385188, 0.67540323, 0.51627089],\n",
       "       [0.84612783, 0.7358871 , 0.63324538],\n",
       "       [0.36083869, 0.28225806, 0.09322779],\n",
       "       [0.54988164, 0.63709677, 0.46262093],\n",
       "       [0.66587758, 0.07056452, 0.04925242],\n",
       "       [0.62292864, 0.4233871 , 0.19085312],\n",
       "       [0.9773419 , 0.85282258, 0.44766931],\n",
       "       [0.45485289, 0.84072581, 0.40105541],\n",
       "       [0.74974636, 0.08669355, 0.4353562 ],\n",
       "       [1.        , 0.73185484, 0.88478452],\n",
       "       [0.94521474, 0.20362903, 0.18557608],\n",
       "       [0.63307406, 0.34677419, 0.15479332],\n",
       "       [0.8031789 , 0.69153226, 0.04397537],\n",
       "       [0.46398377, 0.93548387, 0.51627089],\n",
       "       [0.08217788, 0.22177419, 0.2585752 ],\n",
       "       [0.30334799, 0.00604839, 0.20140721],\n",
       "       [0.04193439, 0.00806452, 0.22251539],\n",
       "       [0.86134596, 0.54233871, 0.04573439],\n",
       "       [0.7612445 , 0.16532258, 0.4942832 ],\n",
       "       [0.81501522, 0.76612903, 0.20140721],\n",
       "       [0.59181603, 0.31048387, 0.01846966],\n",
       "       [0.70645925, 0.41532258, 0.09146878],\n",
       "       [0.26208996, 0.94354839, 0.30079156],\n",
       "       [0.25160636, 0.70564516, 0.46086192],\n",
       "       [0.46838011, 0.28830645, 0.22251539],\n",
       "       [0.25600271, 0.01612903, 0.12752858],\n",
       "       [0.42272574, 0.74395161, 0.6939314 ],\n",
       "       [0.06323977, 0.32258065, 0.19349164],\n",
       "       [0.47548191, 0.54032258, 0.40369393],\n",
       "       [0.06121069, 0.4375    , 0.44063325],\n",
       "       [0.75515725, 0.0483871 , 0.13456464],\n",
       "       [0.41393304, 0.69758065, 0.1064204 ],\n",
       "       [0.77375719, 0.65120968, 0.64995602],\n",
       "       [0.29252621, 0.23790323, 0.22515391],\n",
       "       [0.02401082, 0.78427419, 0.44239226],\n",
       "       [0.26885357, 0.        , 0.07827617],\n",
       "       [0.74264457, 0.98790323, 0.02550572],\n",
       "       [0.19918837, 0.24193548, 0.3764292 ],\n",
       "       [0.        , 0.7983871 , 0.07387863],\n",
       "       [0.89448766, 0.05846774, 0.37554969],\n",
       "       [0.02603991, 0.5483871 , 0.01583113],\n",
       "       [0.74095367, 0.67540323, 0.39401935],\n",
       "       [0.12242137, 0.77822581, 0.57431838],\n",
       "       [0.16097396, 0.94758065, 0.07211961],\n",
       "       [0.08420697, 0.78629032, 0.07915567],\n",
       "       [0.92323301, 0.58266129, 0.52242744],\n",
       "       [0.14305039, 0.52217742, 0.17766051],\n",
       "       [0.62292864, 0.88508065, 0.0123131 ],\n",
       "       [0.24585729, 0.34274194, 0.11081794],\n",
       "       [0.65268854, 0.71370968, 0.66226913],\n",
       "       [0.74332093, 0.66935484, 0.33069481],\n",
       "       [0.35136963, 0.11491935, 0.29991205],\n",
       "       [0.32296246, 0.2983871 , 0.33948989],\n",
       "       [0.4721001 , 0.03830645, 0.07651715],\n",
       "       [0.80960433, 0.14717742, 0.07387863],\n",
       "       [0.82008793, 0.98790323, 0.38698329],\n",
       "       [0.12614136, 0.8125    , 0.10202287],\n",
       "       [0.14879946, 0.52016129, 0.17854002],\n",
       "       [0.94690565, 0.28024194, 0.32277924],\n",
       "       [0.40683125, 0.16935484, 0.42568162],\n",
       "       [0.66587758, 0.46975806, 0.12225154],\n",
       "       [0.57693608, 0.80040323, 0.3289358 ],\n",
       "       [0.63273588, 0.42540323, 0.08091469],\n",
       "       [0.01149814, 0.23387097, 0.0474934 ],\n",
       "       [0.31518431, 0.87701613, 0.44151275],\n",
       "       [0.50422726, 0.02620968, 0.21108179],\n",
       "       [0.03719986, 0.74395161, 0.39489886],\n",
       "       [0.44301657, 0.37096774, 0.30167106],\n",
       "       [0.58099425, 0.36491935, 0.26737027],\n",
       "       [0.2874535 , 0.72177419, 0.43095866],\n",
       "       [0.63476496, 0.36491935, 0.22251539],\n",
       "       [0.550558  , 0.74193548, 0.06244503],\n",
       "       [0.39398039, 0.29637097, 0.04485488],\n",
       "       [0.79066622, 0.06854839, 0.74318382],\n",
       "       [0.05816706, 0.75806452, 0.18733509],\n",
       "       [0.69699019, 0.10483871, 0.16798593],\n",
       "       [0.72607372, 0.47580645, 0.50395778],\n",
       "       [0.95908015, 0.21370968, 0.05364996],\n",
       "       [0.16672303, 0.23387097, 0.15919085],\n",
       "       [0.5539398 , 0.42137097, 0.41424802],\n",
       "       [0.06391613, 0.40524194, 0.14687775],\n",
       "       [0.56712885, 0.14314516, 0.10993843],\n",
       "       [0.74974636, 0.06854839, 0.11257696],\n",
       "       [0.93405479, 0.9858871 , 0.3649956 ],\n",
       "       [0.83767332, 0.60887097, 0.1759015 ],\n",
       "       [0.5732161 , 0.15725806, 0.30694811],\n",
       "       [0.93337842, 0.04637097, 0.20580475],\n",
       "       [0.55765979, 0.2016129 , 0.15215479],\n",
       "       [0.52722354, 0.05241935, 0.0703606 ],\n",
       "       [0.73655732, 0.10887097, 0.23834653],\n",
       "       [0.18769023, 0.11491935, 0.2585752 ],\n",
       "       [0.97024011, 0.86693548, 0.62884785],\n",
       "       [0.85593507, 0.42943548, 0.26121372],\n",
       "       [0.69090294, 0.90927419, 0.16974494],\n",
       "       [0.46939466, 0.04233871, 0.23131047],\n",
       "       [0.64389584, 0.57862903, 0.15743184],\n",
       "       [0.96482922, 0.28024194, 0.02990325],\n",
       "       [0.06087251, 0.24395161, 0.20316623],\n",
       "       [0.13121407, 0.82862903, 0.04837291],\n",
       "       [0.25295908, 0.21774194, 0.05013193],\n",
       "       [0.0557998 , 0.08266129, 0.27528584],\n",
       "       [0.56171796, 0.84677419, 0.02902375],\n",
       "       [0.50388908, 0.71774194, 0.05013193],\n",
       "       [0.12681772, 0.07459677, 0.11873351],\n",
       "       [0.31619885, 0.09879032, 0.06860158],\n",
       "       [0.59621238, 0.1875    , 0.05364996],\n",
       "       [0.95671288, 0.84677419, 0.57959543],\n",
       "       [0.78254988, 0.1733871 , 0.07387863]])"
      ]
     },
     "execution_count": 25,
     "metadata": {},
     "output_type": "execute_result"
    }
   ],
   "source": [
    "from sklearn.preprocessing import MinMaxScaler\n",
    "scaler=MinMaxScaler()\n",
    "scaled=scaler.fit_transform(X,y)\n",
    "scaled"
   ]
  },
  {
   "cell_type": "code",
   "execution_count": 29,
   "metadata": {},
   "outputs": [],
   "source": [
    "from sklearn.model_selection import train_test_split\n",
    "X_train,X_test,y_train,y_test=train_test_split(scaled,y,test_size=0.3,random_state=1)"
   ]
  },
  {
   "cell_type": "code",
   "execution_count": 30,
   "metadata": {},
   "outputs": [
    {
     "data": {
      "text/plain": [
       "KNeighborsRegressor()"
      ]
     },
     "execution_count": 30,
     "metadata": {},
     "output_type": "execute_result"
    }
   ],
   "source": [
    "from sklearn.neighbors import KNeighborsRegressor\n",
    "knr=KNeighborsRegressor(n_neighbors=5)\n",
    "knr.fit(X_train,y_train)"
   ]
  },
  {
   "cell_type": "code",
   "execution_count": 31,
   "metadata": {},
   "outputs": [
    {
     "data": {
      "text/plain": [
       "array([23.16, 17.86, 12.6 , 18.16, 18.9 , 23.82, 17.66, 16.94, 10.72,\n",
       "       19.14, 17.24, 11.22, 18.8 , 15.64, 17.58, 15.92, 13.3 , 18.58,\n",
       "        8.02, 18.1 , 12.56, 10.72,  8.26, 12.26, 11.76, 17.86, 10.4 ,\n",
       "       18.64, 18.88, 19.58, 22.44, 18.34, 16.38, 13.38, 20.28, 17.88,\n",
       "       16.86, 11.  , 21.5 ,  9.22,  7.16, 11.04,  7.18, 18.9 ,  7.96,\n",
       "       14.34, 14.  , 21.16, 22.3 , 20.74, 25.44, 14.64,  8.46, 18.96,\n",
       "       20.06, 15.  , 16.92,  8.48, 17.24, 10.9 ])"
      ]
     },
     "execution_count": 31,
     "metadata": {},
     "output_type": "execute_result"
    }
   ],
   "source": [
    "y_pred=knr.predict(X_test)\n",
    "y_pred"
   ]
  },
  {
   "cell_type": "code",
   "execution_count": 32,
   "metadata": {
    "scrolled": true
   },
   "outputs": [
    {
     "data": {
      "text/plain": [
       "array([23.8, 16.6, 11.9, 19.8, 17.6, 25.5, 16.9, 17.9, 10.5, 17.1, 17.5,\n",
       "       11.3, 17.4, 16.7, 18.4, 15.9, 12.9, 17.8,  9.5, 18.4, 10.7, 12.5,\n",
       "        8.5, 11.5, 11.9, 19.9, 10.1, 18.9, 19.6, 20.9, 23.2, 16.9, 17.3,\n",
       "       16.7, 20.2, 20.5, 16.5, 11. , 22.3,  7.6,  5.3, 12. ,  6.7, 19. ,\n",
       "        5.5, 14.6, 14.6, 21.5, 22.6, 19.7, 25.4, 15.2,  6.6, 21.2, 17.4,\n",
       "       17.6, 17.2,  7.2, 18.4,  9.6])"
      ]
     },
     "execution_count": 32,
     "metadata": {},
     "output_type": "execute_result"
    }
   ],
   "source": [
    "y_test.values"
   ]
  },
  {
   "cell_type": "markdown",
   "metadata": {},
   "source": [
    "# CalculatePerformance measure "
   ]
  },
  {
   "cell_type": "code",
   "execution_count": 33,
   "metadata": {
    "scrolled": true
   },
   "outputs": [
    {
     "name": "stdout",
     "output_type": "stream",
     "text": [
      "R2 Score: 93.42453802321344\n",
      "Mean absolute error: 1.025333333333333\n",
      "Mean square error: 1.6782266666666663\n"
     ]
    }
   ],
   "source": [
    "print(\"R2 Score:\",r2_score(y_test,y_pred)*100)\n",
    "print(\"Mean absolute error:\",mean_absolute_error(y_test,y_pred))\n",
    "print(\"Mean square error:\",mean_squared_error(y_test,y_pred))"
   ]
  },
  {
   "cell_type": "markdown",
   "metadata": {},
   "source": [
    "# Prediction on new values"
   ]
  },
  {
   "cell_type": "code",
   "execution_count": 38,
   "metadata": {},
   "outputs": [
    {
     "data": {
      "text/plain": [
       "array([20.18])"
      ]
     },
     "execution_count": 38,
     "metadata": {},
     "output_type": "execute_result"
    }
   ],
   "source": [
    "y_new=knr.predict(scaler.transform(([[217.1,33.5,72.1]])))\n",
    "y_new"
   ]
  },
  {
   "cell_type": "code",
   "execution_count": null,
   "metadata": {},
   "outputs": [],
   "source": []
  }
 ],
 "metadata": {
  "kernelspec": {
   "display_name": "Python 3",
   "language": "python",
   "name": "python3"
  },
  "language_info": {
   "codemirror_mode": {
    "name": "ipython",
    "version": 3
   },
   "file_extension": ".py",
   "mimetype": "text/x-python",
   "name": "python",
   "nbconvert_exporter": "python",
   "pygments_lexer": "ipython3",
   "version": "3.8.5"
  }
 },
 "nbformat": 4,
 "nbformat_minor": 4
}
